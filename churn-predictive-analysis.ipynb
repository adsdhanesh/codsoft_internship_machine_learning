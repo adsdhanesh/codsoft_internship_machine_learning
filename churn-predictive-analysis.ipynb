{
 "cells": [
  {
   "cell_type": "code",
   "execution_count": 1,
   "id": "4246ca40",
   "metadata": {},
   "outputs": [],
   "source": [
    "import pandas as pd"
   ]
  },
  {
   "cell_type": "code",
   "execution_count": 2,
   "id": "c03eb7ed",
   "metadata": {},
   "outputs": [
    {
     "data": {
      "text/html": [
       "<div>\n",
       "<style scoped>\n",
       "    .dataframe tbody tr th:only-of-type {\n",
       "        vertical-align: middle;\n",
       "    }\n",
       "\n",
       "    .dataframe tbody tr th {\n",
       "        vertical-align: top;\n",
       "    }\n",
       "\n",
       "    .dataframe thead th {\n",
       "        text-align: right;\n",
       "    }\n",
       "</style>\n",
       "<table border=\"1\" class=\"dataframe\">\n",
       "  <thead>\n",
       "    <tr style=\"text-align: right;\">\n",
       "      <th></th>\n",
       "      <th>RowNumber</th>\n",
       "      <th>CustomerId</th>\n",
       "      <th>Surname</th>\n",
       "      <th>CreditScore</th>\n",
       "      <th>Geography</th>\n",
       "      <th>Gender</th>\n",
       "      <th>Age</th>\n",
       "      <th>Tenure</th>\n",
       "      <th>Balance</th>\n",
       "      <th>NumOfProducts</th>\n",
       "      <th>HasCrCard</th>\n",
       "      <th>IsActiveMember</th>\n",
       "      <th>EstimatedSalary</th>\n",
       "      <th>Exited</th>\n",
       "    </tr>\n",
       "  </thead>\n",
       "  <tbody>\n",
       "    <tr>\n",
       "      <th>0</th>\n",
       "      <td>1</td>\n",
       "      <td>15634602</td>\n",
       "      <td>Hargrave</td>\n",
       "      <td>619</td>\n",
       "      <td>France</td>\n",
       "      <td>Female</td>\n",
       "      <td>42</td>\n",
       "      <td>2</td>\n",
       "      <td>0.00</td>\n",
       "      <td>1</td>\n",
       "      <td>1</td>\n",
       "      <td>1</td>\n",
       "      <td>101348.88</td>\n",
       "      <td>1</td>\n",
       "    </tr>\n",
       "    <tr>\n",
       "      <th>1</th>\n",
       "      <td>2</td>\n",
       "      <td>15647311</td>\n",
       "      <td>Hill</td>\n",
       "      <td>608</td>\n",
       "      <td>Spain</td>\n",
       "      <td>Female</td>\n",
       "      <td>41</td>\n",
       "      <td>1</td>\n",
       "      <td>83807.86</td>\n",
       "      <td>1</td>\n",
       "      <td>0</td>\n",
       "      <td>1</td>\n",
       "      <td>112542.58</td>\n",
       "      <td>0</td>\n",
       "    </tr>\n",
       "    <tr>\n",
       "      <th>2</th>\n",
       "      <td>3</td>\n",
       "      <td>15619304</td>\n",
       "      <td>Onio</td>\n",
       "      <td>502</td>\n",
       "      <td>France</td>\n",
       "      <td>Female</td>\n",
       "      <td>42</td>\n",
       "      <td>8</td>\n",
       "      <td>159660.80</td>\n",
       "      <td>3</td>\n",
       "      <td>1</td>\n",
       "      <td>0</td>\n",
       "      <td>113931.57</td>\n",
       "      <td>1</td>\n",
       "    </tr>\n",
       "    <tr>\n",
       "      <th>3</th>\n",
       "      <td>4</td>\n",
       "      <td>15701354</td>\n",
       "      <td>Boni</td>\n",
       "      <td>699</td>\n",
       "      <td>France</td>\n",
       "      <td>Female</td>\n",
       "      <td>39</td>\n",
       "      <td>1</td>\n",
       "      <td>0.00</td>\n",
       "      <td>2</td>\n",
       "      <td>0</td>\n",
       "      <td>0</td>\n",
       "      <td>93826.63</td>\n",
       "      <td>0</td>\n",
       "    </tr>\n",
       "    <tr>\n",
       "      <th>4</th>\n",
       "      <td>5</td>\n",
       "      <td>15737888</td>\n",
       "      <td>Mitchell</td>\n",
       "      <td>850</td>\n",
       "      <td>Spain</td>\n",
       "      <td>Female</td>\n",
       "      <td>43</td>\n",
       "      <td>2</td>\n",
       "      <td>125510.82</td>\n",
       "      <td>1</td>\n",
       "      <td>1</td>\n",
       "      <td>1</td>\n",
       "      <td>79084.10</td>\n",
       "      <td>0</td>\n",
       "    </tr>\n",
       "  </tbody>\n",
       "</table>\n",
       "</div>"
      ],
      "text/plain": [
       "   RowNumber  CustomerId   Surname  CreditScore Geography  Gender  Age  \\\n",
       "0          1    15634602  Hargrave          619    France  Female   42   \n",
       "1          2    15647311      Hill          608     Spain  Female   41   \n",
       "2          3    15619304      Onio          502    France  Female   42   \n",
       "3          4    15701354      Boni          699    France  Female   39   \n",
       "4          5    15737888  Mitchell          850     Spain  Female   43   \n",
       "\n",
       "   Tenure    Balance  NumOfProducts  HasCrCard  IsActiveMember  \\\n",
       "0       2       0.00              1          1               1   \n",
       "1       1   83807.86              1          0               1   \n",
       "2       8  159660.80              3          1               0   \n",
       "3       1       0.00              2          0               0   \n",
       "4       2  125510.82              1          1               1   \n",
       "\n",
       "   EstimatedSalary  Exited  \n",
       "0        101348.88       1  \n",
       "1        112542.58       0  \n",
       "2        113931.57       1  \n",
       "3         93826.63       0  \n",
       "4         79084.10       0  "
      ]
     },
     "execution_count": 2,
     "metadata": {},
     "output_type": "execute_result"
    }
   ],
   "source": [
    "train_df=pd.read_csv('Churn_Modelling.csv')\n",
    "train_df.head()"
   ]
  },
  {
   "cell_type": "code",
   "execution_count": 3,
   "id": "32751203",
   "metadata": {},
   "outputs": [
    {
     "data": {
      "text/plain": [
       "RowNumber          0\n",
       "CustomerId         0\n",
       "Surname            0\n",
       "CreditScore        0\n",
       "Geography          0\n",
       "Gender             0\n",
       "Age                0\n",
       "Tenure             0\n",
       "Balance            0\n",
       "NumOfProducts      0\n",
       "HasCrCard          0\n",
       "IsActiveMember     0\n",
       "EstimatedSalary    0\n",
       "Exited             0\n",
       "dtype: int64"
      ]
     },
     "execution_count": 3,
     "metadata": {},
     "output_type": "execute_result"
    }
   ],
   "source": [
    "train_df.isna().sum()"
   ]
  },
  {
   "cell_type": "code",
   "execution_count": 4,
   "id": "31357ead",
   "metadata": {},
   "outputs": [
    {
     "name": "stdout",
     "output_type": "stream",
     "text": [
      "<class 'pandas.core.frame.DataFrame'>\n",
      "RangeIndex: 10000 entries, 0 to 9999\n",
      "Data columns (total 14 columns):\n",
      " #   Column           Non-Null Count  Dtype  \n",
      "---  ------           --------------  -----  \n",
      " 0   RowNumber        10000 non-null  int64  \n",
      " 1   CustomerId       10000 non-null  int64  \n",
      " 2   Surname          10000 non-null  object \n",
      " 3   CreditScore      10000 non-null  int64  \n",
      " 4   Geography        10000 non-null  object \n",
      " 5   Gender           10000 non-null  object \n",
      " 6   Age              10000 non-null  int64  \n",
      " 7   Tenure           10000 non-null  int64  \n",
      " 8   Balance          10000 non-null  float64\n",
      " 9   NumOfProducts    10000 non-null  int64  \n",
      " 10  HasCrCard        10000 non-null  int64  \n",
      " 11  IsActiveMember   10000 non-null  int64  \n",
      " 12  EstimatedSalary  10000 non-null  float64\n",
      " 13  Exited           10000 non-null  int64  \n",
      "dtypes: float64(2), int64(9), object(3)\n",
      "memory usage: 1.1+ MB\n"
     ]
    }
   ],
   "source": [
    "train_df.info()"
   ]
  },
  {
   "cell_type": "code",
   "execution_count": 5,
   "id": "c0600d41",
   "metadata": {},
   "outputs": [
    {
     "data": {
      "text/html": [
       "<div>\n",
       "<style scoped>\n",
       "    .dataframe tbody tr th:only-of-type {\n",
       "        vertical-align: middle;\n",
       "    }\n",
       "\n",
       "    .dataframe tbody tr th {\n",
       "        vertical-align: top;\n",
       "    }\n",
       "\n",
       "    .dataframe thead th {\n",
       "        text-align: right;\n",
       "    }\n",
       "</style>\n",
       "<table border=\"1\" class=\"dataframe\">\n",
       "  <thead>\n",
       "    <tr style=\"text-align: right;\">\n",
       "      <th></th>\n",
       "      <th>RowNumber</th>\n",
       "      <th>CustomerId</th>\n",
       "      <th>Surname</th>\n",
       "      <th>CreditScore</th>\n",
       "      <th>Geography</th>\n",
       "      <th>Gender</th>\n",
       "      <th>Age</th>\n",
       "      <th>Tenure</th>\n",
       "      <th>Balance</th>\n",
       "      <th>NumOfProducts</th>\n",
       "      <th>HasCrCard</th>\n",
       "      <th>IsActiveMember</th>\n",
       "      <th>EstimatedSalary</th>\n",
       "      <th>Exited</th>\n",
       "    </tr>\n",
       "  </thead>\n",
       "  <tbody>\n",
       "    <tr>\n",
       "      <th>count</th>\n",
       "      <td>10000.00000</td>\n",
       "      <td>1.000000e+04</td>\n",
       "      <td>10000</td>\n",
       "      <td>10000.000000</td>\n",
       "      <td>10000</td>\n",
       "      <td>10000</td>\n",
       "      <td>10000.000000</td>\n",
       "      <td>10000.000000</td>\n",
       "      <td>10000.000000</td>\n",
       "      <td>10000.000000</td>\n",
       "      <td>10000.00000</td>\n",
       "      <td>10000.000000</td>\n",
       "      <td>10000.000000</td>\n",
       "      <td>10000.000000</td>\n",
       "    </tr>\n",
       "    <tr>\n",
       "      <th>unique</th>\n",
       "      <td>NaN</td>\n",
       "      <td>NaN</td>\n",
       "      <td>2932</td>\n",
       "      <td>NaN</td>\n",
       "      <td>3</td>\n",
       "      <td>2</td>\n",
       "      <td>NaN</td>\n",
       "      <td>NaN</td>\n",
       "      <td>NaN</td>\n",
       "      <td>NaN</td>\n",
       "      <td>NaN</td>\n",
       "      <td>NaN</td>\n",
       "      <td>NaN</td>\n",
       "      <td>NaN</td>\n",
       "    </tr>\n",
       "    <tr>\n",
       "      <th>top</th>\n",
       "      <td>NaN</td>\n",
       "      <td>NaN</td>\n",
       "      <td>Smith</td>\n",
       "      <td>NaN</td>\n",
       "      <td>France</td>\n",
       "      <td>Male</td>\n",
       "      <td>NaN</td>\n",
       "      <td>NaN</td>\n",
       "      <td>NaN</td>\n",
       "      <td>NaN</td>\n",
       "      <td>NaN</td>\n",
       "      <td>NaN</td>\n",
       "      <td>NaN</td>\n",
       "      <td>NaN</td>\n",
       "    </tr>\n",
       "    <tr>\n",
       "      <th>freq</th>\n",
       "      <td>NaN</td>\n",
       "      <td>NaN</td>\n",
       "      <td>32</td>\n",
       "      <td>NaN</td>\n",
       "      <td>5014</td>\n",
       "      <td>5457</td>\n",
       "      <td>NaN</td>\n",
       "      <td>NaN</td>\n",
       "      <td>NaN</td>\n",
       "      <td>NaN</td>\n",
       "      <td>NaN</td>\n",
       "      <td>NaN</td>\n",
       "      <td>NaN</td>\n",
       "      <td>NaN</td>\n",
       "    </tr>\n",
       "    <tr>\n",
       "      <th>mean</th>\n",
       "      <td>5000.50000</td>\n",
       "      <td>1.569094e+07</td>\n",
       "      <td>NaN</td>\n",
       "      <td>650.528800</td>\n",
       "      <td>NaN</td>\n",
       "      <td>NaN</td>\n",
       "      <td>38.921800</td>\n",
       "      <td>5.012800</td>\n",
       "      <td>76485.889288</td>\n",
       "      <td>1.530200</td>\n",
       "      <td>0.70550</td>\n",
       "      <td>0.515100</td>\n",
       "      <td>100090.239881</td>\n",
       "      <td>0.203700</td>\n",
       "    </tr>\n",
       "    <tr>\n",
       "      <th>std</th>\n",
       "      <td>2886.89568</td>\n",
       "      <td>7.193619e+04</td>\n",
       "      <td>NaN</td>\n",
       "      <td>96.653299</td>\n",
       "      <td>NaN</td>\n",
       "      <td>NaN</td>\n",
       "      <td>10.487806</td>\n",
       "      <td>2.892174</td>\n",
       "      <td>62397.405202</td>\n",
       "      <td>0.581654</td>\n",
       "      <td>0.45584</td>\n",
       "      <td>0.499797</td>\n",
       "      <td>57510.492818</td>\n",
       "      <td>0.402769</td>\n",
       "    </tr>\n",
       "    <tr>\n",
       "      <th>min</th>\n",
       "      <td>1.00000</td>\n",
       "      <td>1.556570e+07</td>\n",
       "      <td>NaN</td>\n",
       "      <td>350.000000</td>\n",
       "      <td>NaN</td>\n",
       "      <td>NaN</td>\n",
       "      <td>18.000000</td>\n",
       "      <td>0.000000</td>\n",
       "      <td>0.000000</td>\n",
       "      <td>1.000000</td>\n",
       "      <td>0.00000</td>\n",
       "      <td>0.000000</td>\n",
       "      <td>11.580000</td>\n",
       "      <td>0.000000</td>\n",
       "    </tr>\n",
       "    <tr>\n",
       "      <th>25%</th>\n",
       "      <td>2500.75000</td>\n",
       "      <td>1.562853e+07</td>\n",
       "      <td>NaN</td>\n",
       "      <td>584.000000</td>\n",
       "      <td>NaN</td>\n",
       "      <td>NaN</td>\n",
       "      <td>32.000000</td>\n",
       "      <td>3.000000</td>\n",
       "      <td>0.000000</td>\n",
       "      <td>1.000000</td>\n",
       "      <td>0.00000</td>\n",
       "      <td>0.000000</td>\n",
       "      <td>51002.110000</td>\n",
       "      <td>0.000000</td>\n",
       "    </tr>\n",
       "    <tr>\n",
       "      <th>50%</th>\n",
       "      <td>5000.50000</td>\n",
       "      <td>1.569074e+07</td>\n",
       "      <td>NaN</td>\n",
       "      <td>652.000000</td>\n",
       "      <td>NaN</td>\n",
       "      <td>NaN</td>\n",
       "      <td>37.000000</td>\n",
       "      <td>5.000000</td>\n",
       "      <td>97198.540000</td>\n",
       "      <td>1.000000</td>\n",
       "      <td>1.00000</td>\n",
       "      <td>1.000000</td>\n",
       "      <td>100193.915000</td>\n",
       "      <td>0.000000</td>\n",
       "    </tr>\n",
       "    <tr>\n",
       "      <th>75%</th>\n",
       "      <td>7500.25000</td>\n",
       "      <td>1.575323e+07</td>\n",
       "      <td>NaN</td>\n",
       "      <td>718.000000</td>\n",
       "      <td>NaN</td>\n",
       "      <td>NaN</td>\n",
       "      <td>44.000000</td>\n",
       "      <td>7.000000</td>\n",
       "      <td>127644.240000</td>\n",
       "      <td>2.000000</td>\n",
       "      <td>1.00000</td>\n",
       "      <td>1.000000</td>\n",
       "      <td>149388.247500</td>\n",
       "      <td>0.000000</td>\n",
       "    </tr>\n",
       "    <tr>\n",
       "      <th>max</th>\n",
       "      <td>10000.00000</td>\n",
       "      <td>1.581569e+07</td>\n",
       "      <td>NaN</td>\n",
       "      <td>850.000000</td>\n",
       "      <td>NaN</td>\n",
       "      <td>NaN</td>\n",
       "      <td>92.000000</td>\n",
       "      <td>10.000000</td>\n",
       "      <td>250898.090000</td>\n",
       "      <td>4.000000</td>\n",
       "      <td>1.00000</td>\n",
       "      <td>1.000000</td>\n",
       "      <td>199992.480000</td>\n",
       "      <td>1.000000</td>\n",
       "    </tr>\n",
       "  </tbody>\n",
       "</table>\n",
       "</div>"
      ],
      "text/plain": [
       "          RowNumber    CustomerId Surname   CreditScore Geography Gender  \\\n",
       "count   10000.00000  1.000000e+04   10000  10000.000000     10000  10000   \n",
       "unique          NaN           NaN    2932           NaN         3      2   \n",
       "top             NaN           NaN   Smith           NaN    France   Male   \n",
       "freq            NaN           NaN      32           NaN      5014   5457   \n",
       "mean     5000.50000  1.569094e+07     NaN    650.528800       NaN    NaN   \n",
       "std      2886.89568  7.193619e+04     NaN     96.653299       NaN    NaN   \n",
       "min         1.00000  1.556570e+07     NaN    350.000000       NaN    NaN   \n",
       "25%      2500.75000  1.562853e+07     NaN    584.000000       NaN    NaN   \n",
       "50%      5000.50000  1.569074e+07     NaN    652.000000       NaN    NaN   \n",
       "75%      7500.25000  1.575323e+07     NaN    718.000000       NaN    NaN   \n",
       "max     10000.00000  1.581569e+07     NaN    850.000000       NaN    NaN   \n",
       "\n",
       "                 Age        Tenure        Balance  NumOfProducts    HasCrCard  \\\n",
       "count   10000.000000  10000.000000   10000.000000   10000.000000  10000.00000   \n",
       "unique           NaN           NaN            NaN            NaN          NaN   \n",
       "top              NaN           NaN            NaN            NaN          NaN   \n",
       "freq             NaN           NaN            NaN            NaN          NaN   \n",
       "mean       38.921800      5.012800   76485.889288       1.530200      0.70550   \n",
       "std        10.487806      2.892174   62397.405202       0.581654      0.45584   \n",
       "min        18.000000      0.000000       0.000000       1.000000      0.00000   \n",
       "25%        32.000000      3.000000       0.000000       1.000000      0.00000   \n",
       "50%        37.000000      5.000000   97198.540000       1.000000      1.00000   \n",
       "75%        44.000000      7.000000  127644.240000       2.000000      1.00000   \n",
       "max        92.000000     10.000000  250898.090000       4.000000      1.00000   \n",
       "\n",
       "        IsActiveMember  EstimatedSalary        Exited  \n",
       "count     10000.000000     10000.000000  10000.000000  \n",
       "unique             NaN              NaN           NaN  \n",
       "top                NaN              NaN           NaN  \n",
       "freq               NaN              NaN           NaN  \n",
       "mean          0.515100    100090.239881      0.203700  \n",
       "std           0.499797     57510.492818      0.402769  \n",
       "min           0.000000        11.580000      0.000000  \n",
       "25%           0.000000     51002.110000      0.000000  \n",
       "50%           1.000000    100193.915000      0.000000  \n",
       "75%           1.000000    149388.247500      0.000000  \n",
       "max           1.000000    199992.480000      1.000000  "
      ]
     },
     "execution_count": 5,
     "metadata": {},
     "output_type": "execute_result"
    }
   ],
   "source": [
    "train_df.describe(include=\"all\")"
   ]
  },
  {
   "cell_type": "code",
   "execution_count": 6,
   "id": "2355d4f3",
   "metadata": {},
   "outputs": [],
   "source": [
    "from collections import Counter"
   ]
  },
  {
   "cell_type": "code",
   "execution_count": 7,
   "id": "a0d28d40",
   "metadata": {},
   "outputs": [
    {
     "data": {
      "text/plain": [
       "Counter({'Female': 4543, 'Male': 5457})"
      ]
     },
     "execution_count": 7,
     "metadata": {},
     "output_type": "execute_result"
    }
   ],
   "source": [
    "Counter(train_df['Gender'])"
   ]
  },
  {
   "cell_type": "code",
   "execution_count": 8,
   "id": "06e869f2",
   "metadata": {},
   "outputs": [],
   "source": [
    "count=Counter(train_df['Geography'])"
   ]
  },
  {
   "cell_type": "code",
   "execution_count": 9,
   "id": "0adc62ea",
   "metadata": {},
   "outputs": [],
   "source": [
    "train_df['CreditSore']=train_df['CreditScore'].apply(lambda x:x//350.00)\n",
    "train_df['Balance']=train_df['Balance'].apply(lambda x:x//10000.00)\n",
    "train_df['EstimatedSalary']=train_df['EstimatedSalary'].apply(lambda x:x//10000.00)"
   ]
  },
  {
   "cell_type": "code",
   "execution_count": 10,
   "id": "9d1cca2c",
   "metadata": {},
   "outputs": [
    {
     "data": {
      "text/html": [
       "<div>\n",
       "<style scoped>\n",
       "    .dataframe tbody tr th:only-of-type {\n",
       "        vertical-align: middle;\n",
       "    }\n",
       "\n",
       "    .dataframe tbody tr th {\n",
       "        vertical-align: top;\n",
       "    }\n",
       "\n",
       "    .dataframe thead th {\n",
       "        text-align: right;\n",
       "    }\n",
       "</style>\n",
       "<table border=\"1\" class=\"dataframe\">\n",
       "  <thead>\n",
       "    <tr style=\"text-align: right;\">\n",
       "      <th></th>\n",
       "      <th>RowNumber</th>\n",
       "      <th>CustomerId</th>\n",
       "      <th>Surname</th>\n",
       "      <th>CreditScore</th>\n",
       "      <th>Geography</th>\n",
       "      <th>Gender</th>\n",
       "      <th>Age</th>\n",
       "      <th>Tenure</th>\n",
       "      <th>Balance</th>\n",
       "      <th>NumOfProducts</th>\n",
       "      <th>HasCrCard</th>\n",
       "      <th>IsActiveMember</th>\n",
       "      <th>EstimatedSalary</th>\n",
       "      <th>Exited</th>\n",
       "      <th>CreditSore</th>\n",
       "    </tr>\n",
       "  </thead>\n",
       "  <tbody>\n",
       "    <tr>\n",
       "      <th>0</th>\n",
       "      <td>1</td>\n",
       "      <td>15634602</td>\n",
       "      <td>Hargrave</td>\n",
       "      <td>619</td>\n",
       "      <td>France</td>\n",
       "      <td>Female</td>\n",
       "      <td>42</td>\n",
       "      <td>2</td>\n",
       "      <td>0.0</td>\n",
       "      <td>1</td>\n",
       "      <td>1</td>\n",
       "      <td>1</td>\n",
       "      <td>10.0</td>\n",
       "      <td>1</td>\n",
       "      <td>1.0</td>\n",
       "    </tr>\n",
       "    <tr>\n",
       "      <th>1</th>\n",
       "      <td>2</td>\n",
       "      <td>15647311</td>\n",
       "      <td>Hill</td>\n",
       "      <td>608</td>\n",
       "      <td>Spain</td>\n",
       "      <td>Female</td>\n",
       "      <td>41</td>\n",
       "      <td>1</td>\n",
       "      <td>8.0</td>\n",
       "      <td>1</td>\n",
       "      <td>0</td>\n",
       "      <td>1</td>\n",
       "      <td>11.0</td>\n",
       "      <td>0</td>\n",
       "      <td>1.0</td>\n",
       "    </tr>\n",
       "    <tr>\n",
       "      <th>2</th>\n",
       "      <td>3</td>\n",
       "      <td>15619304</td>\n",
       "      <td>Onio</td>\n",
       "      <td>502</td>\n",
       "      <td>France</td>\n",
       "      <td>Female</td>\n",
       "      <td>42</td>\n",
       "      <td>8</td>\n",
       "      <td>15.0</td>\n",
       "      <td>3</td>\n",
       "      <td>1</td>\n",
       "      <td>0</td>\n",
       "      <td>11.0</td>\n",
       "      <td>1</td>\n",
       "      <td>1.0</td>\n",
       "    </tr>\n",
       "    <tr>\n",
       "      <th>3</th>\n",
       "      <td>4</td>\n",
       "      <td>15701354</td>\n",
       "      <td>Boni</td>\n",
       "      <td>699</td>\n",
       "      <td>France</td>\n",
       "      <td>Female</td>\n",
       "      <td>39</td>\n",
       "      <td>1</td>\n",
       "      <td>0.0</td>\n",
       "      <td>2</td>\n",
       "      <td>0</td>\n",
       "      <td>0</td>\n",
       "      <td>9.0</td>\n",
       "      <td>0</td>\n",
       "      <td>1.0</td>\n",
       "    </tr>\n",
       "    <tr>\n",
       "      <th>4</th>\n",
       "      <td>5</td>\n",
       "      <td>15737888</td>\n",
       "      <td>Mitchell</td>\n",
       "      <td>850</td>\n",
       "      <td>Spain</td>\n",
       "      <td>Female</td>\n",
       "      <td>43</td>\n",
       "      <td>2</td>\n",
       "      <td>12.0</td>\n",
       "      <td>1</td>\n",
       "      <td>1</td>\n",
       "      <td>1</td>\n",
       "      <td>7.0</td>\n",
       "      <td>0</td>\n",
       "      <td>2.0</td>\n",
       "    </tr>\n",
       "  </tbody>\n",
       "</table>\n",
       "</div>"
      ],
      "text/plain": [
       "   RowNumber  CustomerId   Surname  CreditScore Geography  Gender  Age  \\\n",
       "0          1    15634602  Hargrave          619    France  Female   42   \n",
       "1          2    15647311      Hill          608     Spain  Female   41   \n",
       "2          3    15619304      Onio          502    France  Female   42   \n",
       "3          4    15701354      Boni          699    France  Female   39   \n",
       "4          5    15737888  Mitchell          850     Spain  Female   43   \n",
       "\n",
       "   Tenure  Balance  NumOfProducts  HasCrCard  IsActiveMember  EstimatedSalary  \\\n",
       "0       2      0.0              1          1               1             10.0   \n",
       "1       1      8.0              1          0               1             11.0   \n",
       "2       8     15.0              3          1               0             11.0   \n",
       "3       1      0.0              2          0               0              9.0   \n",
       "4       2     12.0              1          1               1              7.0   \n",
       "\n",
       "   Exited  CreditSore  \n",
       "0       1         1.0  \n",
       "1       0         1.0  \n",
       "2       1         1.0  \n",
       "3       0         1.0  \n",
       "4       0         2.0  "
      ]
     },
     "execution_count": 10,
     "metadata": {},
     "output_type": "execute_result"
    }
   ],
   "source": [
    "train_df.head()"
   ]
  },
  {
   "cell_type": "code",
   "execution_count": 11,
   "id": "4b84c6f6",
   "metadata": {},
   "outputs": [],
   "source": [
    "l=[i for i in train_df['Geography'].unique()]\n",
    "k=[val for key,val in count.items()]"
   ]
  },
  {
   "cell_type": "code",
   "execution_count": 12,
   "id": "9cf3aea1",
   "metadata": {},
   "outputs": [],
   "source": [
    "import matplotlib.pyplot as plt"
   ]
  },
  {
   "cell_type": "code",
   "execution_count": 13,
   "id": "e5c2926f",
   "metadata": {},
   "outputs": [
    {
     "data": {
      "text/plain": [
       "<BarContainer object of 3 artists>"
      ]
     },
     "execution_count": 13,
     "metadata": {},
     "output_type": "execute_result"
    },
    {
     "data": {
      "image/png": "[encoded data removed]",
      "text/plain": [
       "<Figure size 640x480 with 1 Axes>"
      ]
     },
     "metadata": {},
     "output_type": "display_data"
    }
   ],
   "source": [
    "plt.bar(l,k)"
   ]
  },
  {
   "cell_type": "code",
   "execution_count": 14,
   "id": "3291d4b3",
   "metadata": {},
   "outputs": [
    {
     "data": {
      "text/plain": [
       "<BarContainer object of 2 artists>"
      ]
     },
     "execution_count": 14,
     "metadata": {},
     "output_type": "execute_result"
    },
    {
     "data": {
      "image/png": "[encoded data removed]",
      "text/plain": [
       "<Figure size 640x480 with 1 Axes>"
      ]
     },
     "metadata": {},
     "output_type": "display_data"
    }
   ],
   "source": [
    "l=[i for i in train_df['Gender'].unique()]\n",
    "k=[val for key,val in Counter(train_df['Gender']).items()]\n",
    "plt.barh(l,k,color='cyan')"
   ]
  },
  {
   "cell_type": "code",
   "execution_count": 15,
   "id": "0e507ce2",
   "metadata": {},
   "outputs": [
    {
     "data": {
      "text/plain": [
       "0"
      ]
     },
     "execution_count": 15,
     "metadata": {},
     "output_type": "execute_result"
    }
   ],
   "source": [
    "train_df.duplicated().sum()"
   ]
  },
  {
   "cell_type": "code",
   "execution_count": 16,
   "id": "c8063b83",
   "metadata": {},
   "outputs": [],
   "source": [
    "from sklearn.model_selection import train_test_split"
   ]
  },
  {
   "cell_type": "code",
   "execution_count": 17,
   "id": "d556fc3b",
   "metadata": {},
   "outputs": [
    {
     "data": {
      "text/html": [
       "<div>\n",
       "<style scoped>\n",
       "    .dataframe tbody tr th:only-of-type {\n",
       "        vertical-align: middle;\n",
       "    }\n",
       "\n",
       "    .dataframe tbody tr th {\n",
       "        vertical-align: top;\n",
       "    }\n",
       "\n",
       "    .dataframe thead th {\n",
       "        text-align: right;\n",
       "    }\n",
       "</style>\n",
       "<table border=\"1\" class=\"dataframe\">\n",
       "  <thead>\n",
       "    <tr style=\"text-align: right;\">\n",
       "      <th></th>\n",
       "      <th>Surname</th>\n",
       "      <th>Geography</th>\n",
       "      <th>Gender</th>\n",
       "    </tr>\n",
       "  </thead>\n",
       "  <tbody>\n",
       "    <tr>\n",
       "      <th>0</th>\n",
       "      <td>Hargrave</td>\n",
       "      <td>France</td>\n",
       "      <td>Female</td>\n",
       "    </tr>\n",
       "    <tr>\n",
       "      <th>1</th>\n",
       "      <td>Hill</td>\n",
       "      <td>Spain</td>\n",
       "      <td>Female</td>\n",
       "    </tr>\n",
       "    <tr>\n",
       "      <th>2</th>\n",
       "      <td>Onio</td>\n",
       "      <td>France</td>\n",
       "      <td>Female</td>\n",
       "    </tr>\n",
       "    <tr>\n",
       "      <th>3</th>\n",
       "      <td>Boni</td>\n",
       "      <td>France</td>\n",
       "      <td>Female</td>\n",
       "    </tr>\n",
       "    <tr>\n",
       "      <th>4</th>\n",
       "      <td>Mitchell</td>\n",
       "      <td>Spain</td>\n",
       "      <td>Female</td>\n",
       "    </tr>\n",
       "  </tbody>\n",
       "</table>\n",
       "</div>"
      ],
      "text/plain": [
       "    Surname Geography  Gender\n",
       "0  Hargrave    France  Female\n",
       "1      Hill     Spain  Female\n",
       "2      Onio    France  Female\n",
       "3      Boni    France  Female\n",
       "4  Mitchell     Spain  Female"
      ]
     },
     "execution_count": 17,
     "metadata": {},
     "output_type": "execute_result"
    }
   ],
   "source": [
    "cat_df=train_df.select_dtypes(include='object')\n",
    "cat_df.head()"
   ]
  },
  {
   "cell_type": "code",
   "execution_count": 22,
   "id": "0b88a4ba",
   "metadata": {},
   "outputs": [
    {
     "name": "stdout",
     "output_type": "stream",
     "text": [
      "['Hargrave', 'Hill', 'Onio', 'Boni', 'Mitchell', 'Chu', 'Bartlett', 'Obinna', 'He', 'H?', 'Bearce', 'Andrews', 'Kay', 'Chin', 'Scott', 'Goforth', 'Romeo', 'Henderson', 'Muldrow', 'Hao', 'McDonald', 'Dellucci', 'Gerasimov', 'Mosman', 'Yen', 'Maclean', 'Young', 'Nebechi', 'McWilliams', 'Lucciano', 'Azikiwe', 'Odinakachukwu', 'Sanderson', 'Maggard', 'Clements', 'Lombardo', 'Watson', 'Lorenzo', 'Armstrong', 'Cameron', 'Hsiao', 'Clarke', 'Osborne', 'Lavine', 'Bianchi', 'Tyler', 'Martin', 'Okagbue', 'Yin', 'Buccho', 'Chidiebele', 'Trevisani', \"O'Brien\", 'Parkhill', 'Yoo', 'Phillipps', 'Tsao', 'Endrizzi', \"T'ien\", 'Velazquez', 'Hunter', 'Clark', 'Jeffrey', 'Pirozzi', 'Jackson', 'Hammond', 'Brownless', 'Chibugo', 'Glauert', 'Pisano', 'Konovalova', 'McKee', 'Palermo', 'Ballard', 'Wallace', 'Cavenagh', 'Hu', 'Read', 'Bushell', 'Postle', 'Buley', 'Leonard', 'Mills', 'Onyeorulu', 'Beit', 'Ndukaku', 'Gant', 'Rowley', 'Sharpe', 'Heap', 'Ritchie', 'Cole', 'Capon', 'Fiorentini', 'Graham', 'Yuille', 'Allard', 'Fanucci', 'Fu', 'Hung', 'Bradley', 'Dunbabin', 'Mauldon', 'Stiger', 'Parsons', 'Walkom', \"T'ang\", 'Eremenko', 'Rowntree', 'Thorpe', 'Chiemela', 'Ko', 'Welch', 'Duncan', 'Chidozie', 'Wu', 'Culbreth', 'Kennedy', 'Calabresi', 'Zetticci', 'Fuller', 'MacDonald', 'Piccio', 'Fernie', 'Kaodilinakachukwu', 'Cocci', 'Alekseeva', 'Chinweike', 'Arthur', 'Li', 'Ma', 'Chia', 'Vasin', 'Groves', 'Tien', 'Forwood', 'Greeves', 'Taylor', 'Madukwe', 'Bennelong', 'Olisanugo', 'Chukwufumnanya', 'Harris', 'Morgan', 'Alexeeva', 'Metcalfe', 'Humphries', 'Milne', 'Chou', 'Clayton', 'Chigolum', 'Wilkinson', 'Wei', 'Treacy', 'Taverner', 'Sherman', 'Taubman', 'Robinson', 'Pinto', 'Wood', 'Hawkins', 'Sun', 'Yost', 'Ting', 'Rowe', 'Ho', 'Okechukwu', 'Campbell', 'Ashbolt', 'Rozier', 'Hsia', 'Ogbonnaya', 'Chang', \"T'ao\", 'Ford', 'Marshall', 'Tsai', 'Onwumelu', 'Golovanov', 'Potts', 'Crawford', 'Aleshire', 'Moran', 'Samsonova', 'Jenkins', 'Volkov', 'Chiemezie', 'Jude', 'Onuora', 'Ginikanwa', 'Ku', 'Collins', 'Hackett', 'Dike', 'Trevisano', 'Tan', 'Glassman', 'Miller', 'Kornilova', 'Marchesi', 'Millar', 'Shih', 'Hay', 'Yang', 'McIntyre', 'Stevenson', 'Poole', 'Bagley', \"Ch'ien\", 'Cattaneo', \"O'Sullivan\", 'Lucas', 'Ringrose', 'Freeman', 'Sergeyev', 'Fiore', 'Smith', 'Dumetochukwu', 'Pacheco', 'Synnot', 'Johnston', 'Stevens', 'Grant', 'Barnes', 'McIntosh', 'Madison', 'Ifesinachi', 'Glazkov', 'Dimauro', 'Wieck', 'Liao', 'Hughes', 'Morrison', 'Matveyeva', 'Cheatham', 'Yao', 'Kirkland', 'Rose', 'Jess', 'Ifeajuna', 'Morton', 'Rossi', 'Reppert', 'Kang', \"Ch'iu\", 'Wallis', 'Fielding', 'Dulhunty', 'Bevington', 'Boyle', 'Newton', 'Bowman', 'Dubinina', 'Toscani', 'Chiazagomekpere', 'Allen', \"K'ung\", 'Wilsmore', 'Hargreaves', 'Huang', 'Wallwork', 'Davidson', \"O'Donnell\", 'Nnachetam', 'Ahmed', 'Booth', 'Chuang', 'Shao', 'Johnson', 'French', 'Efremov', 'Hartley', 'Calabrese', 'Chiu', 'Brennan', 'Onwuatuegwu', 'Hewitt', 'Balashov', 'Doyle', 'Pokrovskii', 'Russo', 'Skinner', 'Robertson', 'Atkinson', 'McEncroe', 'Pearson', 'Gordon', \"Ts'ai\", 'Lung', 'Yuan', 'Pardey', 'Tai', 'Mazzanti', 'L?', 'Beach', 'Hsieh', 'Faulkner', 'Knowles', 'Day', 'Hsueh', 'Nwabugwu', 'Kerr', 'Marrero', 'White', 'Brown', 'Russell', 'Seleznyov', 'Yusupova', 'Foley', 'Ikedinachukwu', 'Power', 'Amos', 'Reed', 'Simmons', 'Ricci', 'West', 'Chen', 'Madukaego', 'Ibrahimova', 'Nolan', 'Blair', 'Monaldo', 'Sutherland', 'Briggs', 'Gregory', 'Angelo', 'Gardiner', 'Distefano', 'Farrell', 'Milano', 'Boyd', 'Onyemaechi', 'Black', 'Oliver', 'Greco', 'Whitehead', 'Ikemefuna', 'Onyeoruru', 'Cunningham', 'Demidov', 'Celis', 'Cheng', 'Knight', 'Morin', 'Outhwaite', 'Tung', 'Pai', 'Carpenter', 'Fennell', 'Fontaine', 'Pratt', 'Franklin', 'McKenzie', 'Pino', 'Fisk', 'Chiang', 'Moseley', 'Hsiung', 'Heath', 'De Salis', 'Richardson', 'Fitch', 'Estes', 'Lattimore', 'Chung', 'Utz', 'Nwachinemelu', 'Kuznetsova', 'Pisani', 'Manna', 'Collier', 'Carr', 'Hs?', 'Findlay', 'Chukwuemeka', 'Genovese', 'Swift', 'Ugoji', 'Parkinson', 'Ross', 'Oleary', 'Turnbull', 'Uspensky', 'Cook', 'Newbold', 'Uchechukwu', \"Ch'en\", 'Hilton', 'Sal', 'Eluemuno', 'Titus', 'Lettiere', 'Templeman', 'Chibuzo', 'Evans', 'Enyinnaya', 'Brookes', 'Padovano', 'Hare', 'Muir', 'Elewechi', 'Ankudinov', 'Nwokike', 'Atkins', 'Burns', 'Obiuto', 'George', 'Lewis', 'Dalrymple', 'Carslaw', 'Kirby', 'Houghton', 'Westerberg', 'Hale', 'Kryukova', 'Sopuluchukwu', 'Barry', 'Selezneva', 'Chizuoke', 'Lueck', 'Udinese', 'Udobata', 'Outlaw', 'Lo', 'King', 'Forbes', 'Macleod', 'Gibbs', 'Isayev', 'Belstead', 'Vassiliev', 'Schneider', 'Knipe', 'Macartney', 'Watts', 'Humphreys', 'Chesnokova', 'Kung', 'Lu', 'Nkemakolam', 'Walton', 'Baldwin', 'Mai', 'Ferreira', 'Ukaegbunam', 'De Luca', 'Davide', 'Kodilinyechukwu', 'Little', 'Paterson', 'Han', 'Ijendu', 'Reichard', 'Price', 'Bruce', 'Sumrall', 'Lazarev', 'Wentworth-Shields', 'Mackenzie', 'Pendergrass', 'Billson', 'Teng', 'Moretti', 'Jordan', \"Ts'ao\", \"Ch'ang\", 'Obialo', 'Gray', 'Lin', 'Hopkins', 'Dobson', 'McKay', 'Revell', 'Rickards', 'Begum', 'Onyinyechukwuka', 'Zuyev', 'Nwankwo', 'Okwuadigbo', 'Chan', 'Buchi', 'Lombardi', 'Uchenna', 'Coffman', 'Alexandrova', 'Fallaci', 'Hudson', 'Stout', 'Burke', 'Chadwick', 'Lawrence', 'Bellucci', 'Harper', 'Moss', 'Avdeyeva', 'Lynton', 'Gether', 'Larionova', 'Loggia', 'Steinhoff', 'Guerra', 'Craig', 'Lazareva', 'Alderete', 'Rahman', 'McMillan', 'Pickering', 'Mirams', 'Douglas', 'Jideofor', 'Bell', 'Mairinger', 'Pagnotto', 'Feng', 'Donaldson', 'Chambers', 'Marcelo', 'Ejimofor', 'Dale', 'Pokrovsky', 'Stonebraker', 'Liang', 'Anderson', 'Christian', 'Mao', 'Sagese', 'Fleming', 'Grubb', 'Napolitani', 'Anenechi', 'Chandler', 'Howells', 'Akeroyd', 'Uwaezuoke', 'Loyau', 'Small', 'Bledsoe', 'Kao', 'Wickens', 'Wertheim', 'Jarvis', \"P'an\", 'Repina', 'Pugliesi', 'Blakey', 'Nucci', 'Higinbotham', 'Achebe', 'Dobie', 'Maccallum', 'Watkins', 'Mitchel', 'Ferdinand', 'Otitodilinna', 'Mamelu', 'Beneventi', 'Perrodin', 'Chinagorom', 'Napolitano', 'Edgar', 'Walker', 'Steele', 'Elkins', 'Toscano', 'Savage', 'Mordvinova', 'Kent', 'Cooper', 'Mazzi', 'Fisher', 'Summers', 'Brady', 'Nicholls', 'Golubov', 'Oldham', 'Kambinachi', 'Chinwemma', 'Olsen', 'Jen', 'Preston', 'Ozioma', 'Cody', 'Ponomarev', 'Milani', 'Tang', 'Romani', 'Davis', 'Onyemauchechukwu', 'Gell', 'Chiwetelu', 'Kirillova', 'Shaw', 'Okwudilichukwu', 'Onuoha', 'Muecke', 'Azubuike', 'Nnonso', 'Ashley', \"Ts'ui\", 'Kenenna', 'Beluchi', 'Williamson', 'Bobrov', 'Pitts', 'Standish', 'Cartwright', 'Johnstone', 'Nikitina', 'McElroy', 'Shen', 'Archer', 'Otutodilinna', 'Denisov', 'Owens', \"P'eng\", 'Verco', 'Bergamaschi', 'Outtrim', 'Hou', 'Galkin', 'Echezonachukwu', 'Munro', 'Ball', 'Virgo', 'Tao', 'Perez', 'Fraser', 'Alley', 'Hooper', 'Rice', 'Cox', 'Ikenna', 'Alexander', 'Piazza', 'Ni', 'Harker', 'Chiabuotu', 'Kuo', 'Gallagher', 'Zhirov', 'Lloyd', 'Palmer', \"Ch'eng\", 'Avent', 'Trentini', 'Koehler', 'Okoli', 'Nwokezuike', 'Artemiev', 'Esposito', 'Abbie', 'Averyanov', 'Unaipon', 'Clamp', 'Lim', 'Wan', 'Pettit', 'Baresi', 'Newbery', 'Iheanacho', 'Landry', 'McGregor', 'Pirogov', 'Oguejiofor', 'Ugochukwu', 'Rohu', 'Cary', \"O'Loghlen\", 'Quinn', 'Page', 'Stanley', 'Bednall', 'She', 'May', 'Seabrook', 'Herrera', 'Kincaid', 'Sleeman', 'Artemieva', 'Barwell', 'Wright', 'Moore', 'Sung', 'Mello', 'Mistry', 'Chukwukadibia', 'Zikoranachidimma', 'Oluchukwu', 'Rivera', 'Niu', 'Bennett', 'Wollstonecraft', 'Thomsen', 'Chinwendu', 'James', 'Lamb', 'Olejuru', 'Chiawuotu', 'Yeates', 'Thurgood', 'Knupp', 'Baryshnikov', 'Shephard', 'Avdeeva', 'Hsu', 'Buchanan', 'Yeh', 'Palazzi', 'Y?an', 'Schofield', 'Wall', 'Blackburn', 'Wickham', 'Bird', 'Brizendine', \"Ch'in\", 'Yusupov', 'Jibunoh', 'Wilder', 'Nepean', 'McNess', 'Coles', 'Benson', 'Gilbert', 'Wilhelm', 'Sinclair', 'Buckner', 'Padovesi', 'Palerma', 'Pan', 'Kenniff', 'Spencer', 'Lees', 'David', 'Hsing', 'Ginn', 'Sozonov', 'Manfrin', 'Artamonova', 'Hansen', 'Larsen', 'Owen', 'Murphy', 'Ekechukwu', 'Ayers', 'Sanders', 'Eberechukwu', 'Bardin', 'Talbot', 'Goold', 'Zikoranaudodimma', 'Garner', 'Naylor', 'Fulton', 'McCaffrey', 'Zuev', 'Fabro', 'Chatfield', 'Volkova', 'Abramovich', 'Chien', 'Timms', 'Williford', 'Hamilton', 'Su', 'Akobundu', 'Chukwuebuka', 'Lampungmeiua', 'Kline', 'Riggs', 'Davison', 'Ingram', 'Dilke', 'Gibson', 'Iadanza', 'Hebert', 'Jamieson', 'Chiganu', 'Burgess', 'Woods', 'Bluett', 'Chapman', 'Andrejew', 'Spyer', 'Philip', 'Perry', 'Fokine', 'Mackay', 'Maslova', 'McLean', 'Thompson', 'Tisdall', 'Onochie', 'Mironova', 'Ndubueze', 'Stephenson', 'Golubev', 'Mullan', 'Glover', 'Northey', 'Howarde', 'Colman', 'Butcher', 'Wilkie', 'Bray', 'Ann', 'Souter', 'Medvedeva', 'Onwudiwe', 'Ferrari', 'Hazon', 'Hardy', 'Dickson', 'Holden', 'Doherty', 'Samuel', 'Malloy', 'Fitts', 'Yefimova', 'Abramov', 'Demuth', 'Lawless', 'Brooks', 'Ignatyeva', 'Balmain', 'Ecuyer', 'Li Fonti', 'Despeissis', 'Williams', 'Hancock', 'Wilkins', 'Longo', 'Mancini', 'Winter-Irving', 'Stewart', 'Murray', 'Rischbieth', 'Otutodilichukwu', 'Thomas', 'Whitworth', 'Trentino', 'McMasters', 'Alekseyeva', 'Baranova', 'Yobachi', 'Sorokina', 'Ervin', 'Vance', 'Noble', 'Milanesi', 'Parkin', 'Cremonesi', 'Docherty', 'Ugonna', 'Bevan', \"O'Neill\", 'Pham', 'Osinachi', 'Muravyov', 'Igwebuike', 'Zack', 'Chidiegwu', 'Lucchesi', 'Yudin', 'Wade', 'Septimus', 'Hargraves', 'Sidorov', 'Bunton', 'Conti', 'Sims', 'Carter', 'Dumetolisa', 'Peng', 'Drake-Brockman', 'Tretiakov', 'Lai', 'Justice', 'Osonduagwuike', 'Ewing', 'Tsou', 'Ubanwa', 'Kapustin', 'Nnamutaezinwa', 'Ferri', 'Amechi', 'Kirk', 'Griffin', 'Longstaff', 'McWilliam', 'Coffee', 'Creswell', 'Dodds', 'Ewen', 'Boniwell', 'Vasilieva', 'Kwemto', 'Bocharova', 'Morres', 'Vogel', \"T'an\", 'Wisdom', 'Shahan', 'Bryant', 'Hayward', 'Liu', 'Greece', 'Norman', 'Chukwudi', 'Fedorov', 'Reid', 'Wofford', 'Stephens', 'Frolov', 'Fields', 'Suffolk', 'Judd', 'Degtyarev', 'Kinlaw', 'Omeokachie', 'Gorbunova', 'Tikhonov', 'Campa', 'Donoghue', 'Tuan', 'Baxter', 'Rogers', 'Byrne', 'Aitken', 'Macintyre', 'Simpson', 'Praed', 'Laurens', 'Bykov', 'Vorobyova', 'Pirogova', 'Sturt', 'Panicucci', 'Siciliani', 'Lucchese', 'Swaim', 'Quinones', 'Ludowici', 'Larson', 'Landman', 'K?', 'Alexeyeva', 'Chukwualuka', 'McCall', 'Okeke', 'Iloabuchi', 'Nebechukwu', 'Diribe', 'Macgroarty', 'Artemova', 'Kelly', 'Reilly', 'Ojiofor', 'Shelton', 'Lange', 'Hovell', 'Espinosa', 'Barbour', 'Ozerova', 'Ulyanova', 'Steiner', 'Akabueze', 'Aleksandrova', 'Griffiths', 'McNeil', 'Bruno', 'Okorie', 'Moen', 'McGuigan', 'Fancher', 'Matthews', 'Kaeppel', 'Yudina', 'Jamison', 'Hardiman', 'Woodard', 'Chienezie', 'Chineze', 'Buckland', 'Flannery', 'Payne', 'Vincent', 'Pearce', 'Riley', 'Honore', 'Macarthur', 'Gould', 'Medvedev', 'Sholes', 'Rolon', 'Bligh', 'Lamble', 'Jose', 'Howard', 'Onwuamaeze', \"D'Albertis\", 'Nwachukwu', 'Simpkinson', 'Conway', 'Maslow', 'Swadling', 'Gallo', 'Onyemachukwu', 'Samoylova', 'Leak', 'Frost', 'Warner', 'Ifeatu', 'Fan', 'Whiddon', 'Onyekachukwu', 'Ermakova', 'Marino', 'Onyemere', 'Everingham', 'Huie', 'Crowther', 'Skelton', 'Giordano', 'Bateson', 'Elizabeth', 'Serrano', 'Willis', 'Mashman', 'Tu', 'Romano', 'Goliwe', 'Chiemeka', 'Kellway', 'Sopuluchi', 'Spitzer', 'Potter', 'Kovalyova', 'Miah', 'Builder', 'Baddeley', 'Todd', 'Obiajulu', 'Farmer', 'Ignatieff', 'Okonkwo', 'Dore', 'Bazarova', 'Burn', 'Andreyev', 'Nock', 'Kelley', 'Wilson', 'McFarland', 'Cisneros', 'Borchgrevink', 'Rozhkova', 'Veltri', 'Golibe', 'Udinesi', 'Curtis', 'Hayden', 'Green', 'Gough', 'Bates', 'Kharlamov', 'Ferguson', 'Le Grand', 'Valdez', 'Godfrey', 'Robson', 'Yevdokimova', 'Colombo', 'Akubundu', 'Francis', 'Rhodes', 'Y?', 'Burgmann', 'Macvitie', 'Townsend', 'Pope', 'Jensen', 'Thomson', 'Chiazagomekpele', 'Ozuluonye', 'Fang', 'Horton', 'Schiavone', 'Fiorentino', 'Butusov', 'Wang', 'Alexeieva', 'Vinogradova', 'Bage', 'Naquin', 'Schroeder', 'Swearingen', 'Kozlova', 'Nekrasov', 'Olague', 'Holt', 'Davila', 'Giles', \"O'Meara\", 'Chukwuraenye', 'Tipton', 'Morey', 'Afamefuna', 'Ibbott', 'Law', 'Chinedum', 'Kruglov', 'Stone', 'Wiley', 'Chiagoziem', 'Chukwukere', 'Lee', 'Theus', 'Jennings', 'Parker', 'Patterson', 'Ofodile', 'Nash', 'Brenan', 'Obidimkpa', 'Terry', 'Spring', 'Mahmood', 'Amaechi', 'Foxall', 'Bentley', 'Baird', 'Henry', 'Rocher', 'Komar', 'Loewenthal', 'Aliyeva', 'Montes', 'Tyndall', 'Bailey', 'Onyekaozulu', 'Christmas', 'Genovesi', 'Ellis', 'Onuchukwu', 'Quaife', 'Holder', 'Lahti', 'Perkins', 'Hayes', 'Rizzo', 'Krylov', 'Matthias', 'Mason', 'Smeaton', 'Gotch', \"O'Toole\", 'Ledford', 'Alaniz', 'Saunders', 'Streeter', 'Barclay', 'Otitodilichukwu', 'Wheare', 'Soto', 'Bogle', 'Grimmett', 'Webb', 'Nwokeocha', 'Olisaemeka', 'Yobanna', 'Trevisan', 'Knox', 'Moyes', 'Beavers', 'Tretiakova', 'Aikenhead', 'Cran', 'Golubova', 'McElyea', 'Rosas', 'Phillips', 'Morris', 'Pavlova', 'Yamamoto', 'Zaitsev', 'Cawker', 'Froggatt', 'Gorbunov', 'Mikkelsen', 'Kovalyov', 'Mbanefo', 'Enderby', 'Lira', 'Castiglione', 'Yuryeva', 'Dean', 'Vasiliev', 'Fedorova', 'Samson', 'Fenton', 'Mackey', 'Payton', 'Cowger', 'Banks', 'Fantin', 'Wong', 'Roberts', 'Lo Duca', 'Ashton', 'Melton', 'Zakharov', 'Patrick', 'DeRose', 'Vavilov', 'Browne', 'Collingridge de Tourcey', 'Korovin', 'Hammonds', 'Ward', 'Gallop', 'Gartrell', 'Oluchi', 'Barlow', 'Burgin', 'Nnaife', 'Okwudiliolisa', 'Parkes', 'Kapustina', 'Greathouse', 'Beers', 'Tretyakova', 'Costa', 'Ibezimako', 'Lumholtz', 'Mouzon', 'Ibeabuchi', 'Garnsey', 'Wildman', 'Anenechukwu', 'Plant', 'Babbage', 'Norton', 'Bogolyubov', 'Gibbons', 'Gregson', 'Speth', 'Boag', 'Grave', 'Streeten', 'Fox', 'Artemyeva', 'Gardner', 'Uwakwe', 'Bellew', 'Krichauff', 'Becker', 'Ainsworth', 'Biryukov', 'Redding', 'Inman', 'Hanson', 'Fischer', 'Chinweuba', 'Henning', 'Ogochukwu', 'Narelle', 'Bergman', 'Harrison', 'Goodman', 'Ugochukwutubelum', 'Uvarova', 'Innes', 'Craigie', 'Onyekachi', 'Pethard', 'Obielumani', 'Emery', 'Dufresne', 'Vial', 'Pruneda', 'Neumann', 'Yobachukwu', 'Hess', 'Anayolisa', 'Zhou', 'Bustard', 'Ngozichukwuka', 'Lane', 'Davy', 'Barrera', 'Hall', 'Lysaght', 'Kelechi', 'Chikezie', 'Dreyer', 'Short', 'Hunt', 'Kibby', 'Ramos', 'Keeley', 'Farrar', 'Greenhalgh', 'Odili', 'Kolesnikov', 'Rutherford', 'Mendes', 'Bronner', 'Meany', 'Le Gallienne', 'Wheeler', 'Christie', 'Favors', 'Vida', 'Wayn', 'Nuttall', 'McEwan', 'Holman', 'Bazhenov', 'Kemp', 'Ebelegbulam', 'Tseng', 'Yermakov', 'Chukwunonso', 'Dawson', 'Ifeanyichukwu', 'Musgrove', 'Boulger', 'Gow', 'Robe', 'Bibi', 'Arcuri', 'Muriel', 'MacDevitt', 'Chijindum', 'Nott', 'Lei', 'Sheets', 'Tokaryev', 'Unwin', 'Frater', 'Vanmeter', 'Rearick', 'Glenny', 'Marks', 'Trout', 'Morley', 'Somadina', 'Chieloka', 'Chioke', 'Kovalev', 'Baranov', 'Bidencope', 'De Bernales', 'Cashin', 'Seppelt', \"O'Connor\", 'McGuirk', 'Ruth', 'Aksenov', 'Meng', 'Nwoye', 'Aksyonova', 'Hammer', 'Abbott', 'Davydova', 'Nkemjika', 'Mario', 'Long', 'Nelson', 'Thornton', 'Warlow-Davies', 'Champion', 'William', 'Ozoemena', 'Archambault', 'Udegbulam', 'Greene', 'Blinova', 'De Garis', 'Holmwood', 'Chidubem', 'Randall', 'Leach', 'Light', 'Holloway', 'Nwebube', 'Chibueze', 'Lanford', 'Anthony', 'Myers', 'Davey', 'Chikere', 'Hs?eh', 'Witt', 'Kazantseva', 'Bowhay', 'Beyer', 'Fries', 'Connely', 'Connolly', 'Fomin', 'Chamberlain', 'Barber', 'Zimmer', 'Brazenor', 'Caldwell', 'Yirawala', 'Tokareva', 'Castella', 'Du Cane', 'Woronoff', 'Onodugoadiegbemma', 'Darling', 'Ponomaryov', 'Prokhorova', 'Blacklock', 'Sazonova', 'Henty', 'Azuka', 'Brock', 'Bulgakov', 'Lord', 'Uspenskaya', 'Powell', 'McChesney', 'Yuriev', 'Lablanc', 'Dodd', 'Dillon', 'Hoelscher', 'Udokamma', 'Sinnett', 'Chimaijem', 'Porter', 'Younger', 'Nwagugheuzo', 'Drake', 'Hanna', 'Loftus', 'Chidalu', 'Iredale', 'Padilla', 'Ibragimova', 'Nakayama', 'Gardener', 'Aksenova', 'Kudryashova', 'Hart', 'Kruglova', 'Shaffer', 'Laurie', 'Whitfield', 'Rioux', 'Matveyev', 'Nkemdirim', 'Brim', 'Soubeiran', 'Helena', 'Macdonald', 'Chiekwugo', 'Weller', 'Bess', 'Randell', 'Randolph', 'Hurst', 'Montalvo', 'Kosisochukwu', 'Vigano', 'Windradyne', 'Curnow', 'De Neeve', 'Ebelechukwu', 'Keating', 'Shearston', 'Arnold', 'Chao', 'Zhdanova', 'Fetherstonhaugh', 'Severson', 'Speight', 'Greenwalt', 'Grover', 'Muse', 'Marsden', 'Dennis', 'Nixon', 'Rivers', 'Sochima', 'Heydon', 'Holland', 'Debellis', 'Kibble', 'Lori', 'Enemuo', 'Nebeolisa', 'Chikwado', 'Yates', 'Watt', 'Lavrov', 'Korovina', 'Manning', 'Ingrassia', 'Langdon', 'Goddard', 'Zubareva', 'Newsom', 'Shoobridge', 'Fyodorova', 'Solomon', 'Layh', 'John', 'Slattery', 'Daniels', 'Chiemenam', 'Wanliss', 'Eames', 'Kenyon', 'Parry', 'Arnott', 'Steere', 'Dickinson', 'Evseyev', 'Ulyanov', 'Kazakova', 'Hannaford', 'Mahon', 'Miles', 'Voss', 'Colebatch', 'Chikelu', 'Allan', 'Yefremova', 'Garran', 'Nkemdilim', 'Rubensohn', 'Iqbal', 'Dyer', 'Lyons', 'Namatjira', 'Leibius', 'Coppin', 'Gerasimova', 'Humffray', 'Degtyaryov', 'Cawthorne', 'Khan', 'Iroawuchi', 'Bottrill', 'Jones', 'Sanford', 'Chimaobim', 'Jowers', 'Kirsova', 'Cockrum', 'Greaves', 'Reeves', 'Nnamdi', 'Charlton', 'Marsh', 'Pottinger', 'Buckley', 'Folliero', 'Jessop', 'Hodge', 'Ignatiev', 'Mansom', 'Komarova', 'Yu', 'Sutton', 'Hyde', 'Smalley', 'Barton', 'Horrocks', 'Frye', 'Mellor', 'Meredith', 'Chinomso', 'Chimaoke', 'Winters', 'Hawthorn', 'Hawdon', 'Joslin', 'Bidwill', 'Tate', 'Neal', 'Fulks', 'Siciliano', 'Ositadimma', 'Kazantsev', 'Dolgorukova', 'Singh', 'Shipton', 'Rivas', 'Hoolan', 'Pepper', 'Abramowitz', 'Abazu', 'Harriman', 'Frankland', 'Kwemtochukwu', 'To Rot', 'Lear', 'Winter', 'Hughes-Jones', 'Estrada', 'Heard', 'Efremova', 'Morphett', 'Lenhardt', 'McMorran', 'Phelan', 'Hotchin', 'Aksyonov', 'McGarry', 'Akhtar', 'McDaniels', 'Tennant', 'Donaghy', 'Tobenna', 'Vicars', 'Vessels', 'Heller', 'Dunn', 'Vasilyeva', 'Mollison', 'Aiken', 'Brabyn', 'Traeger', 'Ekwueme', 'Chinwenma', 'Estep', 'Mishina', 'Lavrentiev', 'Kilgour', 'Sheppard', 'Nnanna', 'Norris', 'Chidiebere', 'Okwukwe', 'Elliott', 'Walsh', 'Mahomed', 'Bogdanov', 'Moysey', 'Angel', 'Toosey', 'Hassall', 'Poninski', 'Bonham', 'Bold', 'Izmailov', 'Valentin', 'McIver', 'Fishbourne', 'Chukwueloka', 'Real', 'Odell', 'Enticknap', 'Mann', 'Adams', 'Hirst', 'Horan', 'Cumbrae-Stewart', 'Kinney', 'Nina', 'Mort', 'Martinez', 'Vasilyev', 'Lacross', 'Maughan', 'Tochukwu', 'Slate', 'Chiebuka', 'Berry', 'Boylan', 'Warren', 'Liston', 'Mazure', 'Rudduck', 'Darwin', 'Tomlinson', 'Coates', 'Hickey', 'Stobie', 'Drakeford', 'Bermudez', 'Wyatt', 'Blackwood', 'Storey', 'Glasgow', 'Crotty', 'Hysell', 'Compton', 'See', 'Threatt', 'Davies', 'Matlock', 'Chiedozie', 'Adamson', 'Mishin', 'Bull', 'Serra', 'Summerville', 'Astorga', 'Blesing', 'Nevzorova', 'Sheehan', 'McElhone', 'Chigbogu', 'Tilley', 'McCartney', 'Badgery', 'Zarate', 'Congreve', 'Hayslett', 'Loving', 'Ugonnatubelum', 'Corbett', 'Eiland', 'Labrador', 'Dettmann', 'Hope', 'Ives', 'Brierly', 'Rapuokwu', 'Senior', 'Garmon', 'Biryukova', 'Hutcheon', 'Bateman', 'Haugh', 'Micklem', 'Kegley', 'Valenzuela', 'Fomina', 'Dixon', 'Belov', 'Cross', 'Cullen', 'Rudd', 'Gidney', 'Dalton', 'Hartzler', 'Lambert', 'Game', 'Haynes', 'Jimenez', 'Pharr', 'Jerger', 'Ramsden', 'Jowett', 'Venables', 'Monnier', 'Gadsden', 'Oster', 'Chizoba', 'Peyser', 'Seleznev', 'Alleyne', 'Zikoranachukwudimma', 'Ejikemeifeuwa', 'Rickard', 'Andreev', 'Shand', 'Stehle', 'Belonwu', 'Baker', 'Garcia', 'Field', 'Jefferies', 'Lockyer', 'Torreggiani', 'Richards', 'Herbert', 'Andreyeva', 'Bowen', 'Fowler', 'Lockett', 'Phelps', 'Frederick', 'Carlson', 'Mbadiwe', 'Sabbatini', 'Ewers', 'Hannam', 'Mofflin', 'Ifeanacho', 'Maitland', 'Pollard', 'Brigstocke', 'Gboliwe', 'Seleznyova', 'Joseph', 'Salier', 'Evdokimov', 'Ponomaryova', 'Grosse', 'Belbin', 'Titheradge', 'Hobbs', 'Beggs', 'Luffman', 'Evseev', 'Hagins', 'Kirwan', 'Milligan', 'Royster', 'Gouger', 'Ignatyev', 'Munz', 'Paling', 'Clancy', 'Rios', 'Onyemauchechi', 'Nkemakonam', 'Kirillov', 'Stiles', 'Gaffney', 'Tsui', 'Armit', 'Ramsbotham', 'Scannell', 'Edman', 'Shaver', 'Coupp', 'Bezrukova', 'Cohn', 'Lay', 'Schmidt', 'Hussey', 'Macfarlan', 'Szabados', 'McKelvey', 'McConnell', 'Iheatu', 'Winifred', 'Holmes', 'Riddle', 'McClemans', 'Basedow', 'Nwora', 'Howey', 'Kramer', 'Reynolds', 'Herrin', 'Newland', 'Demaine', 'Harewood', 'Bischof', 'Uren', 'Ruggiero', 'Wilding', 'Yashina', 'Yevseyev', 'Maslov', 'Sullivan', 'Allsop', 'Castles', 'Colbert', 'Chimezie', 'Daluchi', 'Sheffield', 'Dyson', 'Onwuka', 'Flores', 'Nicoll', 'Waters', 'Raynor', 'Eberegbulam', 'Micco', 'Avdeev', 'Bremer', 'Gadsdon', 'Hicks', 'Logan', 'Weber', 'Schnaars', 'Algarin', 'Metcalf', 'Lupton', 'Ibeamaka', 'Rueda', 'Madueke', 'Torres', 'Chukwubuikem', 'Semmens', 'Bogdanova', 'Corser', 'McCardle', 'Radcliffe-Brown', 'Chukwumaobim', 'Cardus', 'Whitehouse', 'McCulloch', 'Koo', 'Woolnough', 'Vinogradov', 'Snider', 'Isayeva', 'Moreno', 'Gill', 'Vaguine', 'Toomey', 'Bonwick', 'Middleton', 'Vale', 'Arkwookerum', 'Lujan', 'Gannon', 'Romero', 'Onwuamaegbu', 'Peacock', 'Barese', 'Nnaemeka', 'Efimov', 'Maynard', 'Zotova', 'Hannah', 'Cartagena', 'Victor', 'Krawczyk', 'Abel', 'Cavill', 'Renwick', 'Linton', 'Langlands', 'Sykes', 'Kryukov', 'Donnelly', 'Boucaut', 'Silva', 'Iweobiegbunam', 'Zito', 'Edmondstone', 'Georg', 'Michelides', 'Chidimma', 'Edmund la Touche', 'Belousov', 'McCane', 'Parry-Okeden', 'Aldrich', 'Shillito', 'Ikechukwu', 'Kauffmann', 'Bock', 'Brewer', 'Yermakova', 'Jacka', 'Sharp', 'Atherton', 'Cookson', 'Hort', 'Zaytseva', 'Diehl', 'Mead', 'Nicholson', 'Huddart', 'Swain', 'Brient', 'Tucker', 'Izmailova', 'Hutchinson', 'Okwuoma', 'Amadi', 'Percy', 'Floyd', 'Melendez', 'Kovaleva', 'Chukwuma', 'Gilroy', 'Hearn', 'Swanson', 'Benjamin', 'Ryrie', 'Montemayor', 'Izuchukwu', 'Herring', 'Duffy', 'Chiefo', 'Fyodorov', 'Palmerston', 'Polyakov', 'Connor', 'Chester', 'Denisova', 'Clogstoun', 'Kalinina', 'Bennet', 'Hallahan', 'Louis', 'Trouette', 'Cribb', 'Fletcher', 'Corson', 'Hinton', 'Bromby', 'Nweke', 'Batty', 'Agafonova', 'Chidumaga', 'Birk', 'Childs', 'Obioma', 'Stetson', 'Waring', 'Thao', 'Armfield', 'Panina', 'Martel', 'Buddicom', 'Walters', 'Muravyova', 'Keen', 'Liebe', 'Rogova', 'Raff', 'Kanayochukwu', 'Guerin', 'Dominguez', 'Pugh', 'Sawtell', 'Kharitonova', 'Muramats', 'Sokolov', 'Gay', 'Maurer', 'Grieve', 'Lowell', 'Philipp', 'Dynon', 'Bishop', 'Rene', 'Daigle', 'Joshua', 'Cochran', 'Bibb', 'Corran', 'Lovely', 'Plascencia', 'Zotov', 'Lynch', 'McCarthy', 'Nnabuife', 'Tinline', 'Esomchi', 'Retana', \"O'Loughlin\", 'Gorman', 'Finch', 'Reyes', 'Downie', 'Yegorov', 'Cantrell', 'Glennon', 'Yancy', 'Cruz', 'Bukowski', 'Chikwendu', 'Kharlamova', 'Diaz', 'Ross-Watt', 'Shubin', 'Sadler', 'Whittaker', 'Gratwick', 'Bovee', 'Frolova', 'Bradshaw', 'Clunie', 'Cover', 'Hodgson', 'Harvey', 'Chase', 'Aparicio', 'Udegbunam', 'Alexandrov', 'Campos', 'McKinnon', 'Burt', 'Feetham', 'Coburn', 'Yegorova', 'Corones', 'Morrice', 'Barrett', 'Tardent', 'Castillo', 'Lindsay', 'Macnamara', 'Aksakova', 'Farnsworth', 'Koch', 'Fleetwood-Smith', 'Chinonyelum', 'Montague', 'Yewen', 'Kalinin', 'Woodward', 'Iweobiegbulam', 'Burton', 'Schwartz', 'Sargent', 'Kepley', 'Lassetter', 'Iloerika', 'Michel', 'Goodwin', 'Rapuluolisa', 'Osorio', 'Barnett', 'Pike', 'Gearheart', 'Egobudike', 'Ahern', 'Anayochukwu', 'Nevels', 'Winn', 'Lopez', 'Steen', 'Pipes', 'Windsor', 'Wark', 'Allnutt', 'Pedder', 'Chialuka', 'Selwyn', 'Koger', 'Kendall', 'Elliot', 'Gratton', 'Carandini', 'Barker', 'Korff', 'Kiernan', 'Mathews', 'Macrossan', 'Illingworth', 'Menhennitt', 'Shoebridge', 'Eva', 'Howe', 'Belisario', 'Pomeroy', 'Schaffer', 'Gonzalez', 'Temple', 'Ridley', 'Slye', 'Takasuka', 'Bruche', 'Ryan', 'Abramova', 'Purdy', 'Higgins', 'Reye', 'Willoughby', 'Mayne', 'Paramor', 'Daly', 'Gorshkov', 'McClinton', 'Holbrook', 'Solomina', 'Faulk', 'Forster', 'Chamberlin', 'Buttenshaw', 'Nazarova', 'Merrett', 'Elder', 'Gunson', 'Gleeson', 'Lang', 'Eve', 'Stradford', 'Brownlow', 'Fyans', 'Creel', 'Nicolay', 'Somerville', 'Pauley', 'Goering', 'Maduabuchim', 'Linger', 'Kenechukwu', 'Learmonth', 'Fitzgerald', 'Duggan', 'Krischock', 'Binder', 'Zubarev', 'Coleman', 'Molineux', 'Duigan', 'Jobson', 'Perreault', 'Algeranoff', 'Galloway', 'Arrington', 'Kamdibe', 'Cousens', 'Hawks', 'Thynne', 'Greenwood', 'Ogle', 'Wolfe', 'Dilibe', 'Austin', 'Santiago', 'Afanasyeva', 'Priestley', 'Salmond', 'Goloubev', 'Dipietro', 'Niehaus', 'Barclay-Harvey', 'Hartung', 'Sternberg', 'Shepherd', 'Marcum', 'North', 'Whitelegge', 'Rooke', 'Horsley', 'Eskridge', 'Claiborne', 'Ibrahimov', 'Enriquez', 'Gilleland', 'Fullwood', 'Doyne', 'Rawling', 'Ankudinova', 'Balsillie', 'Worsnop', 'Buda', 'Broadhurst', 'Garrett', 'Edwards', 'Logue', 'Rechner', 'Batt', 'Trujillo', 'Ash', 'Kumm', 'Carey', 'Farber', 'Edments', 'Lindon', 'Pitcher', 'Kable', 'Kulikova', 'Navarrete', 'Huguley', 'Massie', 'Onwubiko', 'Obiora', 'Slater', 'Menkens', 'Beatham', 'Dowse', 'Griffen', 'Uvarov', 'Hussain', 'Grigoryeva', 'Gunter', 'Collee', 'Ibekwe', 'Hairston', 'Abdulov', 'Perkin', 'Bond', 'Stirling', 'Rutledge', 'Mullah', 'Candler', 'Hollis', 'Lionel', 'Serena', 'Cummins', 'Zhdanov', 'Peck', 'Gerald', 'Nebeuwa', 'Maruff', 'Knepper', 'Hand', 'Chidi', 'Maxwell', 'Berkeley', 'Kaur', 'Mountgarrett', 'Wreford', 'Bolton', 'Corrie', 'Lambie', 'Streeton', 'Pennington', 'Ansell', 'Stokes', 'Ampt', 'Wynn', 'Wagner', 'Argyle', 'Locke', 'Bullen', 'Munson', 'Cooke', 'Hawes', 'Swanton', 'Shipp', 'Jonathan', 'Hernandez', 'Highland', 'Peel', 'Herz', 'Salas', 'Laney', 'Messersmith', 'Etheridge', 'Jolly', 'Botts', 'Fink', 'Morehead', 'Balashova', 'Lowe', 'Ponce', 'Zuyeva', 'Chukwujamuike', 'Flynn', 'Klein', 'Shcherbakov', 'Sokolova', 'Mosley', 'Everett', 'Rouse', 'Burrows', 'Artyomova', 'Yermolayeva', 'Le Hunte', 'Blake', 'Sparks', 'Northern', 'Jack', 'Secombe', 'Ugorji', 'Bancks', 'Fairley', 'Boothby', 'Chukwuhaenye', 'Lock', 'Ramsey', 'Eipper', 'Fernandez', 'Yermolayev', 'Kolesnikova', 'Sharwood', 'Bufkin', 'Neitenstein', 'Sandover', 'Sergeyeva', 'Bales', 'Romilly', 'Lawson', 'Bracewell', 'Torkelson', 'Hightower', 'Levan', 'Loginov', 'Lafleur', 'Miranda', 'Simon', 'Golubeva', 'Stange', 'Milliner', 'Swinton', 'Sukhorukova', 'Combes', 'Carruthers', \"O'Loghlin\", 'Troupe', 'Deleon', 'Downer', 'Bochsa', 'Czajkowski', 'Pankhurst', 'Birdseye', 'Moon', 'Chuter', 'Nielson', 'Ajuluchukwu', 'Board', 'Leckie', 'Cayley', 'Kuykendall', 'Ukaegbulam', 'Onwuemelie', 'Clendinnen', 'Mactier', 'Lipton', 'Levy', 'Amies', 'Aliyev', 'Langler', 'Pye', 'Asher', 'Major', 'Halpern', 'Nyhan', 'Birdsall', 'Mackie', 'Vinogradoff', 'Pokrovskaya', 'Moroney', 'Spence', 'Cherkasova', 'Crocker', 'Polyakova', 'Cantamessa', 'Teakle', 'Challis', 'Dodgshun', 'Blackall', 'Schoenheimer', 'Bromley', 'Shubina', 'Kinder', 'Shepherdson', 'Burson', 'Hopwood', 'Lindeman', 'McKinley', 'Sanchez', 'Muomelu', 'McVey', 'McKissick', 'Horsfall', 'Clapp', 'MacDonnell', 'Ermakov', 'Peppin', 'Fontenot', 'Howarth', 'Gentry', 'Sunderland', 'Knorr', 'Chimaraoke', 'Frederickson', 'Pickworth', 'McGill', 'Sarratt', 'Leworthy', 'Rivero', 'Hornung', 'Barnet', 'Dennys', 'Salter', 'Lazar', 'Onyenachiya', 'McCawley', 'Teague', 'Nekrasova', 'Carroll', 'Landor', 'Wardell', 'Ali', 'Somayina', 'Ruiz', 'Waterhouse', 'Jara', \"O'Callaghan\", 'Pease', 'Lavrentyev', 'Hobson', 'Lappin', 'Travis', 'Jefferson', 'Begley', 'Levien', 'Erskine', 'Monds', 'Castro', 'Voronova', 'Dietz', 'Voronoff', 'Trevascus', 'Durant', 'Chigozie', 'Ardis', 'Butler', 'Pettry', 'Elmore', 'Voronkov', 'Garland', 'Ndubuagha', 'Duke', 'Bradbury', 'Bayley', 'Cremin', 'Gilchrist', 'Fitzpatrick', 'Pagan', 'Hendrick', 'Harding', 'Burfitt', 'Nieves', 'Bruny', 'Felix', 'Rippey', 'Converse', 'Bogolyubova', 'Remington', 'Levi', 'Bennetts', 'Vachon', 'Upjohn', 'Marcus', 'Alvares', 'McDavid', 'Brothers', 'Molle', 'Galgano', 'Raymond', 'Brodney', 'Afanasyev', 'Meagher', 'McGuffog', 'Sargood', 'Harrington', 'Lorenzen', 'Vidler', 'Allingham', 'Stelzer', 'Rubin', 'Harrell', 'Welsh', 'Sousa', 'Obijiaku', 'Mullen', 'Howell', 'Clifton', 'Rees', 'Onwughara', 'Geoghegan', 'Ilyina', 'Quezada', 'Tobeolisa', 'Akudinobi', 'Flemming', 'Azarov', 'Chill', 'Dumolo', 'Wetherspoon', 'Hampton', 'Ireland', 'Hibbins', 'Lea', 'Singleton', 'Sauve', 'Eidson', 'Melvin', 'Dawkins', 'Rita', 'Woolacott', 'Service', 'Dancy', 'Hankinson', 'Afamefula', 'Sherrod', 'Barling', 'Hobler', 'Bair', 'Drury', 'Beale', 'McMinn', 'Hajek', 'Mays', 'Swayne', 'Fennescey', 'Colon', 'Lederer', 'Cecil', 'Manners', 'Wynne', 'Disher', 'Yocum', 'Lowrie', 'Lavarack', 'Gomes', 'Gibney', 'Foran', 'Wyckoff', 'Soares', 'Kenechi', 'Becher', 'Runyon', 'Dobbs', 'Foveaux', 'Currey', 'Nicholas', 'Foster', 'Edmondson', 'Ah Mouy', 'Blue', 'Sievier', 'Watterston', 'Butters', 'Weaver', 'Earl', 'Begg', 'McNaughtan', 'Reagan', 'Bancroft', 'Band', 'Sandefur', 'Cone', 'Liardet', 'Wilkes', 'Patel', 'Howell-Price', 'Rowland', 'Barnard', 'Pendred', 'Samaniego', 'Burgos', 'Spinelli', 'Peavy', 'Lindell', 'Sorenson', 'Cockett', 'Galkina', 'Spears', 'Hardacre', 'Wakelin', 'Shah', 'Combs', 'Mayrhofer', 'Yefremov', 'Kosovich', 'Taplin', 'Yefimov', 'Hales', 'Copeland', 'Rishel', 'Larkin', 'Eddy', 'Sells', 'Bezrukov', 'St Clair', 'Lockington', 'Weston', 'Groom', 'Cambage', 'Burdekin', 'Franz', 'Morant', 'Loton', 'Sani', 'Von Doussa', 'Miracle', 'Burtch', 'McLachlan', 'Wenz', 'Kisch', 'Newman', 'Ndubuisi', 'Plummer', 'Ershova', 'Brookman', 'McBurney', 'Mickey', 'Olszewski', 'Chijioke', 'Bellasis', 'De Mestre', 'Mundy', 'Donahue', 'Verjus', 'Spaull', 'Voronina', 'Crumbley', 'Birch', 'Custance', 'Marshall-Hall', 'More', 'Bazile', 'Wardle', 'Lilly', 'Medland', 'Denman', 'Ratten', 'Abron', 'Belcher', 'Abernathy', 'Pape', 'Earle', 'Coombes', 'Hopman', 'Trejo', 'Macknight', 'Glossop', 'Chalmers', 'Picot', 'Neumayer', 'Yip', 'Ingle', 'Coffey', 'Istomin', 'Fernando', 'McClaran', 'Townsley', 'Mueller', 'Madukaife', 'Abdullah', 'Caraway', 'Loane', 'Geach', 'Charteris', 'Descoteaux', 'Crump', 'Diggs', 'Carvosso', 'Furneaux', 'Nickson', 'Highett', 'Rendall', 'Allardyce', 'Weatherford', 'Chong', 'Alvarez', 'Pritchard', 'Rawlings', 'Truscott', 'Willmore', 'Godson', 'Bitter', 'Forlonge', 'Reyna', 'Tran', 'Otoole', 'Kane', 'Isaacs', 'Timperley', 'Christopher', 'Lawley', 'Whitson', 'Wimble', 'Fermin', 'Fadden', 'Zox', 'Landseer', 'Jenks', 'Crace', 'Packham', 'Emenike', 'Nero', 'Haddon', 'Slone', 'Dann', 'Hooker', 'Kistler', 'Leason', 'Bruner', 'Rubeo', 'Claypool', 'Walpole', 'Steigrad', 'Hixson', 'Laura', 'Hendley', 'Birnie', 'Montgomery', 'Gamble', 'Chifo', 'Michael', 'Quesada', 'Wunder', 'Burlingame', 'Kesteven', 'Abrego', 'Parrott', 'Zinachukwudi', 'Keane', 'McCollum', 'Gambrell', 'Rieke', 'Cawood', 'Yelverton', 'Mault', 'Frewin', 'Royston', 'Wearing', 'Suttor', 'Catchpole', 'Siddons', 'Arbour', 'Hingston', 'Sacco', 'Robb', 'Ochoa', 'Richmond', 'Nworie', 'Wentcher', 'Hayes-Williams', 'Cairns', 'Schatz', 'Stanton', 'Ramirez', 'Bryan', 'Mullawirraburka', 'Chubb', 'Huggins', 'Cowen', 'Kaleski', 'Sugden', 'Beck', 'Beam', 'Haworth', 'Guidry', 'Maher', 'Rapuluchukwu', 'Cyril', 'Laidley', 'McNeill', 'Kentish', 'Persse', 'Chukwujekwu', 'Ham', 'Paten', 'Esquivel', 'Sidorova', 'Santana', 'Mironov', 'Ruse', 'Palfreyman', 'Webster', 'Cardell', 'Lennox', 'Meldrum', 'Vidal', 'Veale', 'Kershaw', 'Vanzetti', 'Boone', 'Nagy', 'Lehr', 'Upchurch', 'Woodhouse', 'Toth', 'Ingamells', 'Overby', 'Chifley', 'Rodriguez', 'Kingsley', 'Gosnell', 'Gearhart', 'Seccombe', 'Rounsevell', 'Stoneman', 'Moody', 'Keldie', 'Defalco', 'Tillman', 'Beede', 'Sadlier', 'Bozeman', 'Shelby', 'Marian', 'Fane', 'Caffyn', 'Dahlenburg', 'Olson', 'Andersen', 'Mackinlay', 'Norriss', 'Mott', 'Fokina', 'Boan', 'Topp', 'Burgoyne', 'Gebhart', 'Tudawali', 'Maconochie', 'Plumb', 'Benford', 'Cobb', 'Macadam', 'Tychonoff', 'Urban', 'Lascelles', 'Mack', 'Sneddon', 'Hopetoun', 'Faria', 'Marquez', 'Barnhill', 'Ogg', 'Wells', 'Calzada', 'Gresswell', 'Aguirre', 'Morales', 'Moffitt', 'Weigel', 'Ohearn', 'Munroe', 'Trumbull', 'Crist', \"O'Kane\", 'Lorimer', 'McDowell', 'Root', 'Saad', 'Corby', 'Dwyer', 'Flannagan', 'Sturdee', 'Hull', 'Vagin', 'Mach', 'MacPherson', 'Parks', 'Edith', 'Lajoie', 'Torode', 'Salinas', 'Cleveland', 'Kashiwagi', 'Aldridge', 'Burbidge']\n"
     ]
    }
   ],
   "source": [
    "l=[]\n",
    "for i in cat_df['Surname'].unique():\n",
    "    l.append(i)\n",
    "print(l)"
   ]
  },
  {
   "cell_type": "code",
   "execution_count": null,
   "id": "35a15412",
   "metadata": {},
   "outputs": [],
   "source": [
    "from sklearn.preprocessing import LabelEncoder"
   ]
  },
  {
   "cell_type": "code",
   "execution_count": null,
   "id": "25096ab5",
   "metadata": {},
   "outputs": [],
   "source": [
    "le=LabelEncoder()\n",
    "for i in cat_df.columns:\n",
    "    j=\"\"\n",
    "    j+=i\n",
    "    cat_df[j]=le.fit_transform(cat_df[j])"
   ]
  },
  {
   "cell_type": "code",
   "execution_count": null,
   "id": "388f966a",
   "metadata": {},
   "outputs": [],
   "source": [
    "cat_df"
   ]
  },
  {
   "cell_type": "code",
   "execution_count": null,
   "id": "cded637e",
   "metadata": {},
   "outputs": [],
   "source": [
    "num_df=train_df.select_dtypes(exclude='object')\n",
    "data=pd.concat([num_df,cat_df],axis=1)\n",
    "data.head()"
   ]
  },
  {
   "cell_type": "code",
   "execution_count": null,
   "id": "d78e246c",
   "metadata": {},
   "outputs": [],
   "source": [
    "y=data[['Exited']]\n",
    "data.drop(['Exited','CreditScore'],inplace=True,axis=1)\n",
    "x=data"
   ]
  },
  {
   "cell_type": "code",
   "execution_count": null,
   "id": "bd9af772",
   "metadata": {},
   "outputs": [],
   "source": [
    "x_train,x_test,y_train,y_test=train_test_split(x,y,test_size=0.2,random_state=101)\n",
    "x_train.shape,x_test.shape,y_train.shape,y_test.shape"
   ]
  },
  {
   "cell_type": "code",
   "execution_count": null,
   "id": "5f5b3745",
   "metadata": {},
   "outputs": [],
   "source": [
    "from sklearn.linear_model import LogisticRegression"
   ]
  },
  {
   "cell_type": "code",
   "execution_count": null,
   "id": "bffbe998",
   "metadata": {},
   "outputs": [],
   "source": [
    "lr=LogisticRegression()\n",
    "lr.fit(x_train,y_train)\n",
    "y_pred=lr.predict(x_test)\n",
    "y_pred"
   ]
  },
  {
   "cell_type": "code",
   "execution_count": null,
   "id": "c2964ae5",
   "metadata": {},
   "outputs": [],
   "source": [
    "lr.score(x_test,y_test)"
   ]
  },
  {
   "cell_type": "code",
   "execution_count": null,
   "id": "4ae79c4b",
   "metadata": {},
   "outputs": [],
   "source": [
    "from sklearn.metrics import confusion_matrix"
   ]
  },
  {
   "cell_type": "code",
   "execution_count": null,
   "id": "8a46bf38",
   "metadata": {},
   "outputs": [],
   "source": [
    "cm=confusion_matrix(y_pred,y_test)"
   ]
  },
  {
   "cell_type": "code",
   "execution_count": null,
   "id": "c193bed7",
   "metadata": {},
   "outputs": [],
   "source": [
    "import seaborn as sns"
   ]
  },
  {
   "cell_type": "code",
   "execution_count": null,
   "id": "d5cca737",
   "metadata": {},
   "outputs": [],
   "source": [
    "sns.heatmap(cm,annot=True)"
   ]
  },
  {
   "cell_type": "code",
   "execution_count": null,
   "id": "5c5795fb",
   "metadata": {},
   "outputs": [],
   "source": [
    "from sklearn.ensemble import RandomForestClassifier"
   ]
  },
  {
   "cell_type": "code",
   "execution_count": null,
   "id": "3a72bf1c",
   "metadata": {},
   "outputs": [],
   "source": [
    "rf=RandomForestClassifier()\n",
    "rf.fit(x_train,y_train)\n",
    "y_pred=rf.predict(x_test)\n",
    "y_pred"
   ]
  },
  {
   "cell_type": "code",
   "execution_count": null,
   "id": "2e133023",
   "metadata": {},
   "outputs": [],
   "source": [
    "rf.score(x_test,y_test)"
   ]
  },
  {
   "cell_type": "code",
   "execution_count": null,
   "id": "f1f53b61",
   "metadata": {},
   "outputs": [],
   "source": [
    "plt.barh(rf.feature_names_in_,rf.feature_importances_)"
   ]
  },
  {
   "cell_type": "code",
   "execution_count": null,
   "id": "2186d4fa",
   "metadata": {},
   "outputs": [],
   "source": [
    "from imblearn.under_sampling import NearMiss\n",
    "from collections import Counter"
   ]
  },
  {
   "cell_type": "code",
   "execution_count": null,
   "id": "7f729b81",
   "metadata": {},
   "outputs": [],
   "source": [
    "us=NearMiss()\n",
    "x_train,y_train=us.fit_resample(x_train,y_train)\n",
    "Counter(y_train)"
   ]
  },
  {
   "cell_type": "code",
   "execution_count": null,
   "id": "1747ff2c",
   "metadata": {},
   "outputs": [],
   "source": [
    "y_train.value_counts()"
   ]
  },
  {
   "cell_type": "code",
   "execution_count": null,
   "id": "8463a531",
   "metadata": {},
   "outputs": [],
   "source": [
    "rf.fit(x_train,y_train)\n",
    "y_pred=rf.predict(x_test)\n",
    "rf.score(x_test,y_test)"
   ]
  },
  {
   "cell_type": "code",
   "execution_count": null,
   "id": "9d62cddf",
   "metadata": {},
   "outputs": [],
   "source": [
    "plt.barh(rf.feature_names_in_,rf.feature_importances_,color='cyan')"
   ]
  },
  {
   "cell_type": "code",
   "execution_count": null,
   "id": "20f4dd9e",
   "metadata": {},
   "outputs": [],
   "source": [
    "from sklearn.feature_selection import SelectKBest,chi2"
   ]
  },
  {
   "cell_type": "code",
   "execution_count": null,
   "id": "e6adcabb",
   "metadata": {},
   "outputs": [],
   "source": [
    "sb=SelectKBest(chi2,k=4)\n",
    "x_tnew=sb.fit_transform(x_test,y_test)\n",
    "x_tnew.shape,y_train.shape"
   ]
  },
  {
   "cell_type": "code",
   "execution_count": null,
   "id": "74ca4708",
   "metadata": {},
   "outputs": [],
   "source": [
    "c=sb.get_support(indices=True)\n",
    "for i in c:\n",
    "    print(train_df.columns[i])"
   ]
  },
  {
   "cell_type": "code",
   "execution_count": null,
   "id": "99c7f3fa",
   "metadata": {},
   "outputs": [],
   "source": [
    "rf.fit(x_tnew,y_train[:2000])\n",
    "y_pred=rf.predict(x_tnew)\n",
    "rf.score(x_tnew,y_test)"
   ]
  },
  {
   "cell_type": "code",
   "execution_count": null,
   "id": "d14baa1f",
   "metadata": {},
   "outputs": [],
   "source": [
    "from sklearn.ensemble import GradientBoostingClassifier"
   ]
  },
  {
   "cell_type": "code",
   "execution_count": null,
   "id": "1b84ca40",
   "metadata": {},
   "outputs": [],
   "source": [
    "gb=GradientBoostingClassifier()\n",
    "gb.fit(x_tnew,y_train[:2000])\n",
    "y_pred=gb.predict(x_tnew)\n",
    "gb.score(x_tnew,y_test)"
   ]
  },
  {
   "cell_type": "code",
   "execution_count": null,
   "id": "ec620686",
   "metadata": {},
   "outputs": [],
   "source": [
    "from sklearn.model_selection import GridSearchCV"
   ]
  },
  {
   "cell_type": "code",
   "execution_count": null,
   "id": "2456d164",
   "metadata": {},
   "outputs": [],
   "source": [
    "model_params={\n",
    "    'LogisticRegression':{\n",
    "        'model':LogisticRegression(),\n",
    "        'params':{\n",
    "            'C':[1.0,2.0,3.0],\n",
    "            'penalty':['l1','l2','elasticnet']\n",
    "        }\n",
    "    },\n",
    "    'RandomForestClassifier':{\n",
    "        'model':RandomForestClassifier(),\n",
    "        'params':{\n",
    "            'n_estimators':[100,200,300],\n",
    "            'criterion':['gini','entropy','log_loss']\n",
    "        }\n",
    "    },\n",
    "    'GradientBoosting':{\n",
    "        'model':GradientBoostingClassifier(),\n",
    "        'params':{\n",
    "            'loss':['log_loss', 'deviance', 'exponential'],\n",
    "            'n_estimators':[100,200,300],\n",
    "            'criterion':['friedman_mse', 'squared_error']\n",
    "        }\n",
    "    }\n",
    "}"
   ]
  },
  {
   "cell_type": "code",
   "execution_count": null,
   "id": "1442757c",
   "metadata": {},
   "outputs": [],
   "source": [
    "score=[]\n",
    "for model,model_param in model_params.items():\n",
    "    clf=GridSearchCV(model_param['model'],model_param['params'],cv=5)\n",
    "    clf.fit(x_tnew,y_train[:2000])\n",
    "    score.append({'model':model,'score':clf.best_score_,'params':clf.best_params_})"
   ]
  },
  {
   "cell_type": "code",
   "execution_count": null,
   "id": "7cf251be",
   "metadata": {},
   "outputs": [],
   "source": [
    "score=pd.DataFrame(score)\n",
    "score"
   ]
  },
  {
   "cell_type": "code",
   "execution_count": null,
   "id": "9d2509a0",
   "metadata": {},
   "outputs": [],
   "source": [
    "import joblib"
   ]
  },
  {
   "cell_type": "code",
   "execution_count": null,
   "id": "a709ec15",
   "metadata": {},
   "outputs": [],
   "source": [
    "joblib.dump(gb,'churn_pred.joblib')"
   ]
  },
  {
   "cell_type": "code",
   "execution_count": null,
   "id": "b88a1c1a",
   "metadata": {},
   "outputs": [],
   "source": [
    "x_train"
   ]
  }
 ],
 "metadata": {
  "kernelspec": {
   "display_name": "Python 3 (ipykernel)",
   "language": "python",
   "name": "python3"
  },
  "language_info": {
   "codemirror_mode": {
    "name": "ipython",
    "version": 3
   },
   "file_extension": ".py",
   "mimetype": "text/x-python",
   "name": "python",
   "nbconvert_exporter": "python",
   "pygments_lexer": "ipython3",
   "version": "3.10.9"
  }
 },
 "nbformat": 4,
 "nbformat_minor": 5
}
